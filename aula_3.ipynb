{
 "cells": [
  {
   "cell_type": "markdown",
   "metadata": {},
   "source": [
    "# Aula 3: Normalização "
   ]
  },
  {
   "cell_type": "markdown",
   "metadata": {},
   "source": [
    "## O que buscamos resolver com esse processo?\n",
    "\n",
    "    - mistura de dados\n",
    "    - redundância de dados;\n",
    "    - Anomalias de inserção, remoção e alteração tornam as tabelas de uma banco de dados pesadas;"
   ]
  },
  {
   "cell_type": "code",
   "execution_count": null,
   "metadata": {},
   "outputs": [],
   "source": []
  },
  {
   "cell_type": "markdown",
   "metadata": {},
   "source": [
    "## Anomalias:\n",
    "\n",
    "    - Anomalias de inserção;\n",
    "    - Anomalias de Alteração;\n",
    "    - Anomalias de remoção;"
   ]
  },
  {
   "cell_type": "code",
   "execution_count": null,
   "metadata": {},
   "outputs": [],
   "source": []
  },
  {
   "cell_type": "markdown",
   "metadata": {},
   "source": [
    "## O que é Dependência Funcional? \n",
    "\n",
    "O atributo que determina o valor é chamado de determinante. O outro é chamado de dependente.\n",
    "Exemplo: cpf -> nome"
   ]
  },
  {
   "cell_type": "code",
   "execution_count": null,
   "metadata": {},
   "outputs": [],
   "source": []
  },
  {
   "cell_type": "markdown",
   "metadata": {},
   "source": [
    "## Formas Normais\n",
    "\n",
    "    PRIMEIRA FORMA NORMAL: satisfazer as propriedades baseadas na dependência funcional.\n",
    "\n",
    "    SEGUNDA FORMA NORMAL: Satisfazer as propriedades baseadas na dependencia funcional parcial\n",
    "\n",
    "    TERCEIRA: satisfazer as propriedades baseradas na dependência transitiva;"
   ]
  },
  {
   "cell_type": "code",
   "execution_count": null,
   "metadata": {},
   "outputs": [],
   "source": []
  },
  {
   "cell_type": "markdown",
   "metadata": {},
   "source": [
    "# PRIMEIRA FORMA NORMAL - 1FN\n",
    "\n",
    "Evitar ter mais de um assunto em uma tabela;\n",
    "\n",
    "Não admitir repetições ou campos que tenham mais que um valor;\n",
    "\n",
    "Procedimentos para aplicar a regra: \n",
    "\n",
    "- 1. Identificar a chave primária da tabela;\n",
    "\n",
    "- 2. Identificar o grupo repetitivo e removê-lo da tabela.\n",
    "\n",
    "Não pode existir mais de um assunto em uma mesma tabela, como também não admite repetições ou campos que possuem mais que um valor."
   ]
  },
  {
   "cell_type": "code",
   "execution_count": null,
   "metadata": {},
   "outputs": [],
   "source": []
  },
  {
   "cell_type": "markdown",
   "metadata": {},
   "source": [
    "# SEGUNDA FORMA NORMAL - 2FN\n",
    "\n",
    "Se está na primeira forma normal;\n",
    "Atributos chave não dependem da chave composta em sua totalidade;\n",
    "\n",
    "Procedimento para aplicar a regra: \n",
    "\n",
    "- 1. Identificar que a tabela tem chave primária composta;\n",
    "- 2. Identificar os atributos que dependem parcialmente dessa chave primártia e criar  uma nova tabela com eles."
   ]
  },
  {
   "cell_type": "code",
   "execution_count": null,
   "metadata": {},
   "outputs": [],
   "source": []
  },
  {
   "cell_type": "markdown",
   "metadata": {},
   "source": [
    "# TERCEIRA FORMA NORMAL - 3FN\n",
    "\n",
    "Se ela estiver na segunda forma normal;\n",
    "\n",
    "Se nenhuma coluna possui dependência transitiva em relação a outra coluna que não participe da chave primária.\n",
    "\n",
    "Em muitos sistemas de informação existre a necessidade de se armazenar o resultado de cálculos, totais e valores consolidados.\n",
    "\n",
    "Precedimento: Identificar todos os atributos que são funcionalmente dependentes de outros atributos não chave e removê-los.\n",
    "\n",
    "Normalizado quando chega até a terceira forma normal."
   ]
  },
  {
   "cell_type": "markdown",
   "metadata": {},
   "source": []
  }
 ],
 "metadata": {
  "kernelspec": {
   "display_name": "Python 3 (ipykernel)",
   "language": "python",
   "name": "python3"
  },
  "language_info": {
   "codemirror_mode": {
    "name": "ipython",
    "version": 3
   },
   "file_extension": ".py",
   "mimetype": "text/x-python",
   "name": "python",
   "nbconvert_exporter": "python",
   "pygments_lexer": "ipython3",
   "version": "3.10.4"
  }
 },
 "nbformat": 4,
 "nbformat_minor": 2
}
