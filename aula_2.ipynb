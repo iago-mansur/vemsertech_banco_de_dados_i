{
 "cells": [
  {
   "cell_type": "markdown",
   "metadata": {},
   "source": [
    "# Aula 2: Entrando na Burocracia"
   ]
  },
  {
   "cell_type": "markdown",
   "metadata": {},
   "source": [
    "## Modelagem de Dados:\n",
    "\n",
    "1. Modelo conceitual: \n",
    "    - Entender os requisitos;\n",
    "    - Representação visual;\n",
    "    - Fundamental para todos que vão trabalhaar com dados;\n",
    "    - É o que você constrói juntamente com o negócio.\n",
    "  \n",
    "  \n",
    "  \n",
    "2. Modelo lógico:\n",
    "    - Descrição de como os dados serão armazenados;\n",
    "    - Descrevemos entidade, atributos, chaves primárias/estrangeiras;\n",
    "    - Relacionamentos;\n",
    "    - Este é o que você constrói com o time de dados baseando-se no conceitual.\n",
    "\n",
    "\n",
    "\n",
    "3. Modelo Físico:\n",
    "    - Descrevemos tabelas, colunas e relacionamentos;\n",
    "    - Traz consigo uma linguagem para representação;\n",
    "    - Consta tipagens e características \"físicas\" dos dados;\n",
    "    - Este é o que o time de dados constrói para colocar a mão na massa.\n"
   ]
  },
  {
   "cell_type": "markdown",
   "metadata": {},
   "source": [
    "## SGBD: SISTEMA GERENCIAL DE BANCO DE DADOS\n",
    "\n",
    "  - Interface para incluir, alterar ou consultar;\n",
    "  - Tudo o que fazemos em um banco passa pelo SGBD;\n",
    "  - É comum confundirem com banco de dados.\n",
    "  - Exemplos: \n",
    "    - MySQL;\n",
    "    - ORACLE;\n",
    "    - PostgreSQL';\n",
    "    - MariaDB;\n",
    "    - Microsoft SQLServer;\n",
    "    - IBMDB2;\n",
    "    - SQLite."
   ]
  },
  {
   "cell_type": "markdown",
   "metadata": {},
   "source": [
    "# BrModelo\n",
    "    - Instale o JAVA;\n",
    "    https://www.java.com/pt-BR/download/ie_manual.jsp?locale=pt_BR\n",
    "\n",
    "    - Instale o BrModelo\n",
    "    http://www.sis4.com/brModelo/download.html#google_vignette\n",
    "        - Baixa o ZIP;\n",
    "        - Extrai;\n",
    "        - brModelo > dist > brModelo.jar.\n",
    "        \n",
    "# BrModelo Online\n",
    "\n",
    "https://app.brmodeloweb.com/#!/main"
   ]
  },
  {
   "cell_type": "markdown",
   "metadata": {},
   "source": [
    "## MER - MODELO ENTIDADE RELACIONAMENTO\n",
    "    - Modelo conceitual \n",
    "    - usado para descrever objetos, suas características e como se relacionam;\n",
    "\n",
    "## DER - DIAGRAMA ENTIDADE RELACIONAMENTO \n",
    "    - Representação gráfica do MER;\n",
    "    - Muitas vezes usado como sinônimo;\n",
    "    - facilita a comunicação entre todos."
   ]
  },
  {
   "cell_type": "markdown",
   "metadata": {},
   "source": [
    "# ATRIBUTOS\n",
    "\n",
    "    - Características ligadas as entidades;\n",
    "    - Valor único (atômico);\n",
    "    - Mais de um valor (multivalorado);\n",
    "    - Armazenados;\n",
    "    - derivados;\n",
    "    - Opcional (Null);\n",
    "    - Obrigatório (not null)\n",
    "\n",
    "# CHAVE PRIMÁRIAS\n",
    "    - atributos únicos e exclusivos;\n",
    "    - nunca se repete;\n",
    "    - não pode ser nulo;\n",
    "    - só as entidade fortes possuem chave primária.\n",
    "    - entidades fracas possuiem chave parcial;"
   ]
  },
  {
   "cell_type": "code",
   "execution_count": null,
   "metadata": {},
   "outputs": [],
   "source": []
  },
  {
   "cell_type": "code",
   "execution_count": null,
   "metadata": {},
   "outputs": [],
   "source": []
  },
  {
   "cell_type": "code",
   "execution_count": null,
   "metadata": {},
   "outputs": [],
   "source": []
  },
  {
   "cell_type": "code",
   "execution_count": null,
   "metadata": {},
   "outputs": [],
   "source": []
  },
  {
   "cell_type": "code",
   "execution_count": null,
   "metadata": {},
   "outputs": [],
   "source": []
  },
  {
   "cell_type": "code",
   "execution_count": null,
   "metadata": {},
   "outputs": [],
   "source": []
  }
 ],
 "metadata": {
  "kernelspec": {
   "display_name": "Python 3 (ipykernel)",
   "language": "python",
   "name": "python3"
  },
  "language_info": {
   "codemirror_mode": {
    "name": "ipython",
    "version": 3
   },
   "file_extension": ".py",
   "mimetype": "text/x-python",
   "name": "python",
   "nbconvert_exporter": "python",
   "pygments_lexer": "ipython3",
   "version": "3.10.4"
  }
 },
 "nbformat": 4,
 "nbformat_minor": 4
}
